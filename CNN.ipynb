{
  "nbformat": 4,
  "nbformat_minor": 0,
  "metadata": {
    "colab": {
      "name": "CNN.ipynb",
      "provenance": [],
      "collapsed_sections": [],
      "toc_visible": true,
      "include_colab_link": true
    },
    "kernelspec": {
      "name": "python3",
      "display_name": "Python 3"
    },
    "accelerator": "GPU"
  },
  "cells": [
    {
      "cell_type": "markdown",
      "metadata": {
        "id": "view-in-github",
        "colab_type": "text"
      },
      "source": [
        "<a href=\"https://colab.research.google.com/github/ZakyFarhan/CNN/blob/master/CNN.ipynb\" target=\"_parent\"><img src=\"https://colab.research.google.com/assets/colab-badge.svg\" alt=\"Open In Colab\"/></a>"
      ]
    },
    {
      "cell_type": "markdown",
      "metadata": {
        "id": "HKb2o9Fe_Db4",
        "colab_type": "text"
      },
      "source": [
        "# Training"
      ]
    },
    {
      "cell_type": "code",
      "metadata": {
        "id": "OTowBywO8ne8",
        "colab_type": "code",
        "outputId": "1a653705-d1f4-4723-b8f3-40d45788529a",
        "colab": {
          "base_uri": "https://localhost:8080/",
          "height": 54
        }
      },
      "source": [
        "from google.colab import drive\n",
        "drive.mount('/content/drive')"
      ],
      "execution_count": 5,
      "outputs": [
        {
          "output_type": "stream",
          "text": [
            "Drive already mounted at /content/drive; to attempt to forcibly remount, call drive.mount(\"/content/drive\", force_remount=True).\n"
          ],
          "name": "stdout"
        }
      ]
    },
    {
      "cell_type": "code",
      "metadata": {
        "id": "LJWUHPBKHwZv",
        "colab_type": "code",
        "colab": {}
      },
      "source": [
        "import sys\n",
        "import os\n",
        "from keras.preprocessing.image import ImageDataGenerator\n",
        "from keras import optimizers\n",
        "from keras.models import Sequential\n",
        "from keras.layers import Dropout, Flatten, Dense, Activation\n",
        "from keras.layers.convolutional import Convolution2D, MaxPooling2D\n",
        "from keras import callbacks\n",
        "import matplotlib.pyplot as plt"
      ],
      "execution_count": 0,
      "outputs": []
    },
    {
      "cell_type": "code",
      "metadata": {
        "id": "RXZ2kD8GIAcL",
        "colab_type": "code",
        "colab": {}
      },
      "source": [
        "import time\n",
        "start = time.time()\n",
        "\n",
        "train_data_path = '/content/drive/My Drive/Skripsi/dataset/train'\n",
        "validation_data_path = '/content/drive/My Drive/Skripsi/dataset/validation'"
      ],
      "execution_count": 0,
      "outputs": []
    },
    {
      "cell_type": "code",
      "metadata": {
        "id": "ZajLEqj_IXEo",
        "colab_type": "code",
        "colab": {}
      },
      "source": [
        "img_width, img_height = 150, 150\n",
        "batch_size = 10\n",
        "samples_per_epoch = 700\n",
        "validation_steps = 170\n",
        "nb_filters1 = 32\n",
        "nb_filters2 = 64\n",
        "conv1_size = 3\n",
        "conv2_size = 2\n",
        "pool_size = 2\n",
        "classes_num = 2\n",
        "lr = 0.0001"
      ],
      "execution_count": 0,
      "outputs": []
    },
    {
      "cell_type": "code",
      "metadata": {
        "id": "f0r5yFE5IaR3",
        "colab_type": "code",
        "outputId": "ed20e27a-4533-4782-a323-30b648777ae0",
        "colab": {
          "base_uri": "https://localhost:8080/",
          "height": 632
        }
      },
      "source": [
        "#Step 2 Convolution\n",
        "model = Sequential()\n",
        "model.add(Convolution2D(nb_filters1, conv1_size, conv1_size, border_mode =\"same\", input_shape=(img_width, img_height, 3)))\n",
        "model.add(Activation(\"relu\"))\n",
        "model.add(MaxPooling2D(pool_size=(pool_size, pool_size)))\n",
        "\n",
        "model.add(Convolution2D(nb_filters2, conv2_size, conv2_size, border_mode =\"same\"))\n",
        "model.add(Activation(\"relu\"))\n",
        "model.add(MaxPooling2D(pool_size=(pool_size, pool_size), dim_ordering='th'))\n",
        "\n",
        "#Step 3 Flattening\n",
        "model.add(Flatten())\n",
        "\n",
        "#Step 4 Full Connection\n",
        "model.add(Dense(256))\n",
        "model.add(Activation(\"relu\"))\n",
        "model.add(Dropout(0.5))\n",
        "model.add(Dense(classes_num, activation='softmax'))\n",
        "\n",
        "model.compile(loss='categorical_crossentropy',\n",
        "              optimizer=optimizers.RMSprop(lr=0.0001),\n",
        "              metrics=['accuracy'])"
      ],
      "execution_count": 9,
      "outputs": [
        {
          "output_type": "stream",
          "text": [
            "WARNING:tensorflow:From /usr/local/lib/python3.6/dist-packages/keras/backend/tensorflow_backend.py:66: The name tf.get_default_graph is deprecated. Please use tf.compat.v1.get_default_graph instead.\n",
            "\n",
            "WARNING:tensorflow:From /usr/local/lib/python3.6/dist-packages/keras/backend/tensorflow_backend.py:541: The name tf.placeholder is deprecated. Please use tf.compat.v1.placeholder instead.\n",
            "\n",
            "WARNING:tensorflow:From /usr/local/lib/python3.6/dist-packages/keras/backend/tensorflow_backend.py:4432: The name tf.random_uniform is deprecated. Please use tf.random.uniform instead.\n",
            "\n",
            "WARNING:tensorflow:From /usr/local/lib/python3.6/dist-packages/keras/backend/tensorflow_backend.py:4267: The name tf.nn.max_pool is deprecated. Please use tf.nn.max_pool2d instead.\n",
            "\n",
            "WARNING:tensorflow:From /usr/local/lib/python3.6/dist-packages/keras/backend/tensorflow_backend.py:190: The name tf.get_default_session is deprecated. Please use tf.compat.v1.get_default_session instead.\n",
            "\n",
            "WARNING:tensorflow:From /usr/local/lib/python3.6/dist-packages/keras/backend/tensorflow_backend.py:197: The name tf.ConfigProto is deprecated. Please use tf.compat.v1.ConfigProto instead.\n",
            "\n",
            "WARNING:tensorflow:From /usr/local/lib/python3.6/dist-packages/keras/backend/tensorflow_backend.py:203: The name tf.Session is deprecated. Please use tf.compat.v1.Session instead.\n",
            "\n"
          ],
          "name": "stdout"
        },
        {
          "output_type": "stream",
          "text": [
            "/usr/local/lib/python3.6/dist-packages/ipykernel_launcher.py:2: UserWarning: Update your `Conv2D` call to the Keras 2 API: `Conv2D(32, (3, 3), input_shape=(150, 150,..., padding=\"same\")`\n",
            "  \n",
            "/usr/local/lib/python3.6/dist-packages/ipykernel_launcher.py:6: UserWarning: Update your `Conv2D` call to the Keras 2 API: `Conv2D(64, (2, 2), padding=\"same\")`\n",
            "  \n",
            "/usr/local/lib/python3.6/dist-packages/ipykernel_launcher.py:8: UserWarning: Update your `MaxPooling2D` call to the Keras 2 API: `MaxPooling2D(pool_size=(2, 2), data_format=\"channels_first\")`\n",
            "  \n"
          ],
          "name": "stderr"
        },
        {
          "output_type": "stream",
          "text": [
            "WARNING:tensorflow:From /usr/local/lib/python3.6/dist-packages/keras/backend/tensorflow_backend.py:207: The name tf.global_variables is deprecated. Please use tf.compat.v1.global_variables instead.\n",
            "\n",
            "WARNING:tensorflow:From /usr/local/lib/python3.6/dist-packages/keras/backend/tensorflow_backend.py:216: The name tf.is_variable_initialized is deprecated. Please use tf.compat.v1.is_variable_initialized instead.\n",
            "\n",
            "WARNING:tensorflow:From /usr/local/lib/python3.6/dist-packages/keras/backend/tensorflow_backend.py:223: The name tf.variables_initializer is deprecated. Please use tf.compat.v1.variables_initializer instead.\n",
            "\n",
            "WARNING:tensorflow:From /usr/local/lib/python3.6/dist-packages/keras/backend/tensorflow_backend.py:148: The name tf.placeholder_with_default is deprecated. Please use tf.compat.v1.placeholder_with_default instead.\n",
            "\n",
            "WARNING:tensorflow:From /usr/local/lib/python3.6/dist-packages/keras/backend/tensorflow_backend.py:3733: calling dropout (from tensorflow.python.ops.nn_ops) with keep_prob is deprecated and will be removed in a future version.\n",
            "Instructions for updating:\n",
            "Please use `rate` instead of `keep_prob`. Rate should be set to `rate = 1 - keep_prob`.\n",
            "WARNING:tensorflow:From /usr/local/lib/python3.6/dist-packages/keras/optimizers.py:793: The name tf.train.Optimizer is deprecated. Please use tf.compat.v1.train.Optimizer instead.\n",
            "\n",
            "WARNING:tensorflow:From /usr/local/lib/python3.6/dist-packages/keras/backend/tensorflow_backend.py:3576: The name tf.log is deprecated. Please use tf.math.log instead.\n",
            "\n"
          ],
          "name": "stdout"
        }
      ]
    },
    {
      "cell_type": "code",
      "metadata": {
        "id": "tZ3kPUQaIcxv",
        "colab_type": "code",
        "outputId": "455c0439-0dca-444c-d63b-0e133144e3f7",
        "colab": {
          "base_uri": "https://localhost:8080/",
          "height": 1000
        }
      },
      "source": [
        "train_datagen = ImageDataGenerator(\n",
        "    rescale=1. / 255,\n",
        "    shear_range=0.2,\n",
        "    zoom_range=0.2,\n",
        "    horizontal_flip=True,\n",
        "    validation_split=0.2)\n",
        "\n",
        "validation_datagen = ImageDataGenerator(rescale=1. / 255)\n",
        "\n",
        "train_generator = train_datagen.flow_from_directory(\n",
        "    train_data_path,\n",
        "    target_size=(img_height, img_width),\n",
        "    batch_size=batch_size,\n",
        "    class_mode='categorical')\n",
        "\n",
        "validation_generator = validation_datagen.flow_from_directory(\n",
        "    validation_data_path,\n",
        "    target_size=(img_height, img_width),\n",
        "    batch_size=batch_size,\n",
        "    class_mode='categorical')\n",
        "\n",
        "hist = model.fit_generator(\n",
        "    train_generator,\n",
        "    samples_per_epoch=samples_per_epoch,\n",
        "    epochs=25,\n",
        "    validation_data=validation_generator,\n",
        "    validation_steps=validation_steps)\n",
        "\n",
        "#Calculate execution time\n",
        "end = time.time()\n",
        "dur = end-start\n",
        "\n",
        "if dur<60:\n",
        "    print(\"Execution Time:\",dur,\"seconds\")\n",
        "elif dur>60 and dur<3600:\n",
        "    dur=dur/60\n",
        "    print(\"Execution Time:\",dur,\"minutes\")\n",
        "else:\n",
        "    dur=dur/(60*60)\n",
        "    print(\"Execution Time:\",dur,\"hours\")"
      ],
      "execution_count": 10,
      "outputs": [
        {
          "output_type": "stream",
          "text": [
            "Found 710 images belonging to 2 classes.\n",
            "Found 169 images belonging to 2 classes.\n",
            "WARNING:tensorflow:From /usr/local/lib/python3.6/dist-packages/tensorflow_core/python/ops/math_grad.py:1424: where (from tensorflow.python.ops.array_ops) is deprecated and will be removed in a future version.\n",
            "Instructions for updating:\n",
            "Use tf.where in 2.0, which has the same broadcast rule as np.where\n",
            "WARNING:tensorflow:From /usr/local/lib/python3.6/dist-packages/keras/backend/tensorflow_backend.py:1033: The name tf.assign_add is deprecated. Please use tf.compat.v1.assign_add instead.\n",
            "\n",
            "WARNING:tensorflow:From /usr/local/lib/python3.6/dist-packages/keras/backend/tensorflow_backend.py:1020: The name tf.assign is deprecated. Please use tf.compat.v1.assign instead.\n",
            "\n"
          ],
          "name": "stdout"
        },
        {
          "output_type": "stream",
          "text": [
            "/usr/local/lib/python3.6/dist-packages/ipykernel_launcher.py:27: UserWarning: Update your `fit_generator` call to the Keras 2 API: `fit_generator(<keras_pre..., epochs=25, validation_data=<keras_pre..., validation_steps=170, steps_per_epoch=70)`\n"
          ],
          "name": "stderr"
        },
        {
          "output_type": "stream",
          "text": [
            "Epoch 1/25\n",
            "70/70 [==============================] - 311s 4s/step - loss: 0.7308 - acc: 0.7614 - val_loss: 0.0897 - val_acc: 0.9763\n",
            "Epoch 2/25\n",
            "70/70 [==============================] - 27s 379ms/step - loss: 0.2351 - acc: 0.9071 - val_loss: 0.0586 - val_acc: 0.9763\n",
            "Epoch 3/25\n",
            "70/70 [==============================] - 27s 379ms/step - loss: 0.1982 - acc: 0.9286 - val_loss: 0.0528 - val_acc: 0.9704\n",
            "Epoch 4/25\n",
            "70/70 [==============================] - 26s 375ms/step - loss: 0.1679 - acc: 0.9414 - val_loss: 0.0537 - val_acc: 0.9822\n",
            "Epoch 5/25\n",
            "70/70 [==============================] - 26s 375ms/step - loss: 0.1328 - acc: 0.9614 - val_loss: 0.4156 - val_acc: 0.8817\n",
            "Epoch 6/25\n",
            "70/70 [==============================] - 26s 375ms/step - loss: 0.1620 - acc: 0.9443 - val_loss: 0.0685 - val_acc: 0.9763\n",
            "Epoch 7/25\n",
            "70/70 [==============================] - 26s 373ms/step - loss: 0.1374 - acc: 0.9600 - val_loss: 0.0386 - val_acc: 0.9822\n",
            "Epoch 8/25\n",
            "70/70 [==============================] - 26s 376ms/step - loss: 0.1221 - acc: 0.9471 - val_loss: 0.0625 - val_acc: 0.9763\n",
            "Epoch 9/25\n",
            "70/70 [==============================] - 26s 375ms/step - loss: 0.1234 - acc: 0.9600 - val_loss: 0.0372 - val_acc: 0.9822\n",
            "Epoch 10/25\n",
            "70/70 [==============================] - 26s 369ms/step - loss: 0.1190 - acc: 0.9557 - val_loss: 0.0432 - val_acc: 0.9822\n",
            "Epoch 11/25\n",
            "70/70 [==============================] - 26s 373ms/step - loss: 0.1238 - acc: 0.9657 - val_loss: 0.0338 - val_acc: 0.9822\n",
            "Epoch 12/25\n",
            "70/70 [==============================] - 26s 366ms/step - loss: 0.0954 - acc: 0.9657 - val_loss: 0.1817 - val_acc: 0.9349\n",
            "Epoch 13/25\n",
            "70/70 [==============================] - 26s 365ms/step - loss: 0.0953 - acc: 0.9771 - val_loss: 0.0502 - val_acc: 0.9822\n",
            "Epoch 14/25\n",
            "70/70 [==============================] - 26s 371ms/step - loss: 0.0915 - acc: 0.9714 - val_loss: 0.1516 - val_acc: 0.9467\n",
            "Epoch 15/25\n",
            "70/70 [==============================] - 25s 361ms/step - loss: 0.0811 - acc: 0.9729 - val_loss: 0.1137 - val_acc: 0.9704\n",
            "Epoch 16/25\n",
            "70/70 [==============================] - 26s 366ms/step - loss: 0.0992 - acc: 0.9700 - val_loss: 0.0479 - val_acc: 0.9882\n",
            "Epoch 17/25\n",
            "70/70 [==============================] - 26s 372ms/step - loss: 0.0940 - acc: 0.9671 - val_loss: 0.0397 - val_acc: 0.9704\n",
            "Epoch 18/25\n",
            "70/70 [==============================] - 25s 362ms/step - loss: 0.0917 - acc: 0.9757 - val_loss: 0.0426 - val_acc: 0.9822\n",
            "Epoch 19/25\n",
            "70/70 [==============================] - 26s 367ms/step - loss: 0.0884 - acc: 0.9714 - val_loss: 0.0306 - val_acc: 0.9763\n",
            "Epoch 20/25\n",
            "70/70 [==============================] - 26s 368ms/step - loss: 0.0741 - acc: 0.9643 - val_loss: 0.1109 - val_acc: 0.9763\n",
            "Epoch 21/25\n",
            "70/70 [==============================] - 26s 369ms/step - loss: 0.0849 - acc: 0.9757 - val_loss: 0.0534 - val_acc: 0.9882\n",
            "Epoch 22/25\n",
            "70/70 [==============================] - 26s 370ms/step - loss: 0.0678 - acc: 0.9771 - val_loss: 0.0711 - val_acc: 0.9882\n",
            "Epoch 23/25\n",
            "70/70 [==============================] - 26s 365ms/step - loss: 0.0808 - acc: 0.9771 - val_loss: 0.0486 - val_acc: 0.9882\n",
            "Epoch 24/25\n",
            "70/70 [==============================] - 26s 369ms/step - loss: 0.0858 - acc: 0.9686 - val_loss: 0.0810 - val_acc: 0.9763\n",
            "Epoch 25/25\n",
            "70/70 [==============================] - 25s 361ms/step - loss: 0.0454 - acc: 0.9843 - val_loss: 0.0957 - val_acc: 0.9763\n",
            "Execution Time: 15.790609149138133 minutes\n"
          ],
          "name": "stdout"
        }
      ]
    },
    {
      "cell_type": "code",
      "metadata": {
        "id": "5vqOyTfN_Xea",
        "colab_type": "code",
        "outputId": "f5b28cc5-1699-4cde-dfd3-27d2f7c3f3e3",
        "colab": {
          "base_uri": "https://localhost:8080/",
          "height": 761
        }
      },
      "source": [
        "#Show accuracy graph\n",
        "plt.plot(hist.history['acc'])\n",
        "plt.legend(['Acc'])\n",
        "plt.show()\n",
        "\n",
        "plt.plot(hist.history['val_acc'])\n",
        "plt.legend(['Val_Acc'])\n",
        "plt.show()\n",
        "\n",
        "#Show accuracy graph\n",
        "plt.plot(hist.history['acc'])\n",
        "plt.plot(hist.history['val_acc'])\n",
        "plt.legend(['Acc', 'Val_acc'])\n",
        "plt.show()"
      ],
      "execution_count": 11,
      "outputs": [
        {
          "output_type": "display_data",
          "data": {
            "image/png": "[encoded data removed]",
            "text/plain": [
              "<Figure size 432x288 with 1 Axes>"
            ]
          },
          "metadata": {
            "tags": []
          }
        },
        {
          "output_type": "display_data",
          "data": {
            "image/png": "[encoded data removed]",
            "text/plain": [
              "<Figure size 432x288 with 1 Axes>"
            ]
          },
          "metadata": {
            "tags": []
          }
        },
        {
          "output_type": "display_data",
          "data": {
            "image/png": "[encoded data removed]",
            "text/plain": [
              "<Figure size 432x288 with 1 Axes>"
            ]
          },
          "metadata": {
            "tags": []
          }
        }
      ]
    },
    {
      "cell_type": "code",
      "metadata": {
        "id": "edBBG85m_vnY",
        "colab_type": "code",
        "outputId": "efc90953-969b-4819-ef50-a2c6669a5a90",
        "colab": {
          "base_uri": "https://localhost:8080/",
          "height": 761
        }
      },
      "source": [
        "#Show error value graph\n",
        "plt.plot(hist.history['loss'])\n",
        "plt.legend(['Loss'])\n",
        "plt.show()\n",
        "\n",
        "#Show error value graph\n",
        "plt.plot(hist.history['val_loss'])\n",
        "plt.legend(['Val_loss'])\n",
        "plt.show()\n",
        "\n",
        "#Show error value graph\n",
        "plt.plot(hist.history['loss'])\n",
        "plt.plot(hist.history['val_loss'])\n",
        "plt.legend(['Loss', 'Val_loss'])\n",
        "plt.show()"
      ],
      "execution_count": 12,
      "outputs": [
        {
          "output_type": "display_data",
          "data": {
            "image/png": "[encoded data removed]",
            "text/plain": [
              "<Figure size 432x288 with 1 Axes>"
            ]
          },
          "metadata": {
            "tags": []
          }
        },
        {
          "output_type": "display_data",
          "data": {
            "image/png": "[encoded data removed]",
            "text/plain": [
              "<Figure size 432x288 with 1 Axes>"
            ]
          },
          "metadata": {
            "tags": []
          }
        },
        {
          "output_type": "display_data",
          "data": {
            "image/png": "[encoded data removed]",
            "text/plain": [
              "<Figure size 432x288 with 1 Axes>"
            ]
          },
          "metadata": {
            "tags": []
          }
        }
      ]
    },
    {
      "cell_type": "code",
      "metadata": {
        "id": "6XkQLvXQ_8R9",
        "colab_type": "code",
        "colab": {}
      },
      "source": [
        "target_dir = './models/'\n",
        "if not os.path.exists(target_dir):\n",
        "  os.mkdir(target_dir)\n",
        "model.save('./models/model.h5')\n",
        "model.save_weights('./models/weights.h5')"
      ],
      "execution_count": 0,
      "outputs": []
    },
    {
      "cell_type": "markdown",
      "metadata": {
        "id": "PpH7wc-I_Ijn",
        "colab_type": "text"
      },
      "source": [
        "# Testing"
      ]
    },
    {
      "cell_type": "code",
      "metadata": {
        "id": "DbilvdUC_KtG",
        "colab_type": "code",
        "colab": {}
      },
      "source": [
        "import os\n",
        "import numpy as np\n",
        "from keras.preprocessing.image import ImageDataGenerator,load_img, img_to_array\n",
        "from keras.models import Sequential, load_model\n",
        "import time"
      ],
      "execution_count": 0,
      "outputs": []
    },
    {
      "cell_type": "code",
      "metadata": {
        "id": "DW9GyqwT_NEs",
        "colab_type": "code",
        "colab": {}
      },
      "source": [
        "start = time.time()"
      ],
      "execution_count": 0,
      "outputs": []
    },
    {
      "cell_type": "code",
      "metadata": {
        "id": "iLt872z9_Tap",
        "colab_type": "code",
        "colab": {}
      },
      "source": [
        "#Define Path\n",
        "model_path = './models/model.h5'\n",
        "model_weights_path = './models/weights.h5'\n",
        "test_path = '/content/drive/My Drive/Skripsi/dataset/test_image'"
      ],
      "execution_count": 0,
      "outputs": []
    },
    {
      "cell_type": "code",
      "metadata": {
        "id": "JwMPmcH-ADTB",
        "colab_type": "code",
        "colab": {}
      },
      "source": [
        "#Load the pre-trained models\n",
        "model = load_model(model_path)\n",
        "model.load_weights(model_weights_path)"
      ],
      "execution_count": 0,
      "outputs": []
    },
    {
      "cell_type": "code",
      "metadata": {
        "id": "daVpa2ISATOm",
        "colab_type": "code",
        "colab": {}
      },
      "source": [
        "#Define image parameters\n",
        "img_width, img_height = 150, 150"
      ],
      "execution_count": 0,
      "outputs": []
    },
    {
      "cell_type": "code",
      "metadata": {
        "id": "rvpJZP2cAVPa",
        "colab_type": "code",
        "colab": {}
      },
      "source": [
        "#Prediction Function\n",
        "def predict(file):\n",
        "  x = load_img(file, target_size=(img_width,img_height))\n",
        "  x = img_to_array(x)\n",
        "  x = np.expand_dims(x, axis=0)\n",
        "  array = model.predict(x)\n",
        "  result = array[0]\n",
        "  #print(result)\n",
        "  answer = np.argmax(result)\n",
        "  if answer == 0:\n",
        "    print(\"Predicted: Kebakaran\")\n",
        "  elif answer == 1:\n",
        "    print(\"Predicted: Non-Kebakaran\")\n",
        "  return answer"
      ],
      "execution_count": 0,
      "outputs": []
    },
    {
      "cell_type": "code",
      "metadata": {
        "id": "LNofQ6F0AW9h",
        "colab_type": "code",
        "outputId": "65afb3c1-1691-4817-97c4-8a3599ab94d8",
        "colab": {
          "base_uri": "https://localhost:8080/",
          "height": 1000
        }
      },
      "source": [
        "#Walk the directory for every image\n",
        "for i, ret in enumerate(os.walk(test_path)):\n",
        "  for i, filename in enumerate(ret[2]):\n",
        "    if filename.startswith(\".\"):\n",
        "      continue\n",
        "    \n",
        "    print(ret[0] + '/' + filename)\n",
        "    result = predict(ret[0] + '/' + filename)\n",
        "    print(\" \")\n",
        "\n",
        "    #Calculate execution time\n",
        "end = time.time()\n",
        "dur = end-start\n",
        "\n",
        "if dur<60:\n",
        "    print(\"Execution Time:\",dur,\"seconds\")\n",
        "elif dur>60 and dur<3600:\n",
        "    dur=dur/60\n",
        "    print(\"Execution Time:\",dur,\"minutes\")\n",
        "else:\n",
        "    dur=dur/(60*60)\n",
        "    print(\"Execution Time:\",dur,\"hours\")"
      ],
      "execution_count": 20,
      "outputs": [
        {
          "output_type": "stream",
          "text": [
            "/content/drive/My Drive/Skripsi/dataset/test_image/kebakaran_0001.jpg\n",
            "Predicted: Non-Kebakaran\n",
            " \n",
            "/content/drive/My Drive/Skripsi/dataset/test_image/kebakaran_0004.jpg\n",
            "Predicted: Kebakaran\n",
            " \n",
            "/content/drive/My Drive/Skripsi/dataset/test_image/kebakaran_0003.jpg\n",
            "Predicted: Kebakaran\n",
            " \n",
            "/content/drive/My Drive/Skripsi/dataset/test_image/kebakaran_0002.jpg\n",
            "Predicted: Non-Kebakaran\n",
            " \n",
            "/content/drive/My Drive/Skripsi/dataset/test_image/kebakaran_0009.jpeg\n",
            "Predicted: Kebakaran\n",
            " \n",
            "/content/drive/My Drive/Skripsi/dataset/test_image/kebakaran_0007.jpg\n",
            "Predicted: Kebakaran\n",
            " \n",
            "/content/drive/My Drive/Skripsi/dataset/test_image/kebakaran_0005.jpg\n",
            "Predicted: Kebakaran\n",
            " \n",
            "/content/drive/My Drive/Skripsi/dataset/test_image/kebakaran_0006.jpg\n",
            "Predicted: Kebakaran\n",
            " \n",
            "/content/drive/My Drive/Skripsi/dataset/test_image/kebakaran_0011.jpg\n",
            "Predicted: Kebakaran\n",
            " \n",
            "/content/drive/My Drive/Skripsi/dataset/test_image/kebakaran_0010.jpg\n",
            "Predicted: Kebakaran\n",
            " \n",
            "/content/drive/My Drive/Skripsi/dataset/test_image/kebakaran_0008.jpg\n",
            "Predicted: Kebakaran\n",
            " \n",
            "/content/drive/My Drive/Skripsi/dataset/test_image/kebakaran_0015.jpg\n",
            "Predicted: Kebakaran\n",
            " \n",
            "/content/drive/My Drive/Skripsi/dataset/test_image/kebakaran_0016.jpg\n",
            "Predicted: Kebakaran\n",
            " \n",
            "/content/drive/My Drive/Skripsi/dataset/test_image/kebakaran_0017.jpg\n",
            "Predicted: Kebakaran\n",
            " \n",
            "/content/drive/My Drive/Skripsi/dataset/test_image/kebakaran_0018.jpg\n",
            "Predicted: Kebakaran\n",
            " \n",
            "/content/drive/My Drive/Skripsi/dataset/test_image/kebakaran_0020.jpg\n",
            "Predicted: Kebakaran\n",
            " \n",
            "/content/drive/My Drive/Skripsi/dataset/test_image/kebakaran_0019.jpg\n",
            "Predicted: Kebakaran\n",
            " \n",
            "/content/drive/My Drive/Skripsi/dataset/test_image/kebakaran_0013.jpg\n",
            "Predicted: Kebakaran\n",
            " \n",
            "/content/drive/My Drive/Skripsi/dataset/test_image/kebakaran_0014.jpg\n",
            "Predicted: Kebakaran\n",
            " \n",
            "/content/drive/My Drive/Skripsi/dataset/test_image/kebakaran_0021.jpg\n",
            "Predicted: Kebakaran\n",
            " \n",
            "/content/drive/My Drive/Skripsi/dataset/test_image/kebakaran_0012.jpg\n",
            "Predicted: Kebakaran\n",
            " \n",
            "/content/drive/My Drive/Skripsi/dataset/test_image/kebakaran_0022.jpg\n",
            "Predicted: Kebakaran\n",
            " \n",
            "/content/drive/My Drive/Skripsi/dataset/test_image/kebakaran_0024.jpg\n",
            "Predicted: Kebakaran\n",
            " \n",
            "/content/drive/My Drive/Skripsi/dataset/test_image/kebakaran_0025.jpg\n",
            "Predicted: Kebakaran\n",
            " \n",
            "/content/drive/My Drive/Skripsi/dataset/test_image/kebakaran_0023.jpg\n",
            "Predicted: Non-Kebakaran\n",
            " \n",
            "/content/drive/My Drive/Skripsi/dataset/test_image/kebakaran_0026.jpg\n",
            "Predicted: Kebakaran\n",
            " \n",
            "/content/drive/My Drive/Skripsi/dataset/test_image/kebakaran_0027.jpg\n",
            "Predicted: Kebakaran\n",
            " \n",
            "/content/drive/My Drive/Skripsi/dataset/test_image/kebakaran_0028.jpg\n",
            "Predicted: Kebakaran\n",
            " \n",
            "/content/drive/My Drive/Skripsi/dataset/test_image/Non_kebakaran_0036.jpg\n",
            "Predicted: Non-Kebakaran\n",
            " \n",
            "/content/drive/My Drive/Skripsi/dataset/test_image/kebakaran_0032.jpg\n",
            "Predicted: Non-Kebakaran\n",
            " \n",
            "/content/drive/My Drive/Skripsi/dataset/test_image/kebakaran_0029.jpg\n",
            "Predicted: Kebakaran\n",
            " \n",
            "/content/drive/My Drive/Skripsi/dataset/test_image/kebakaran_0030.jpg\n",
            "Predicted: Non-Kebakaran\n",
            " \n",
            "/content/drive/My Drive/Skripsi/dataset/test_image/kebakaran_0031.jpg\n",
            "Predicted: Kebakaran\n",
            " \n",
            "/content/drive/My Drive/Skripsi/dataset/test_image/kebakaran_0033.jpg\n",
            "Predicted: Kebakaran\n",
            " \n",
            "/content/drive/My Drive/Skripsi/dataset/test_image/kebakaran_0034.jpg\n",
            "Predicted: Kebakaran\n",
            " \n",
            "/content/drive/My Drive/Skripsi/dataset/test_image/Non_kebakaran_0002.jpg\n",
            "Predicted: Non-Kebakaran\n",
            " \n",
            "/content/drive/My Drive/Skripsi/dataset/test_image/kebakaran_0037.jpg\n",
            "Predicted: Kebakaran\n",
            " \n",
            "/content/drive/My Drive/Skripsi/dataset/test_image/kebakaran_0035.jpg\n",
            "Predicted: Kebakaran\n",
            " \n",
            "/content/drive/My Drive/Skripsi/dataset/test_image/kebakaran_0036.jpg\n",
            "Predicted: Kebakaran\n",
            " \n",
            "/content/drive/My Drive/Skripsi/dataset/test_image/Non_kebakaran_0003.jpg\n",
            "Predicted: Non-Kebakaran\n",
            " \n",
            "/content/drive/My Drive/Skripsi/dataset/test_image/kebakaran_0038.jpeg\n",
            "Predicted: Kebakaran\n",
            " \n",
            "/content/drive/My Drive/Skripsi/dataset/test_image/Non_kebakaran_0001.jpg\n",
            "Predicted: Non-Kebakaran\n",
            " \n",
            "/content/drive/My Drive/Skripsi/dataset/test_image/kebakaran_0040.jpg\n",
            "Predicted: Non-Kebakaran\n",
            " \n",
            "/content/drive/My Drive/Skripsi/dataset/test_image/kebakaran_0039.jpg\n",
            "Predicted: Non-Kebakaran\n",
            " \n",
            "/content/drive/My Drive/Skripsi/dataset/test_image/Non_kebakaran_0004.jpg\n",
            "Predicted: Non-Kebakaran\n",
            " \n",
            "/content/drive/My Drive/Skripsi/dataset/test_image/Non_kebakaran_0005.jpg\n",
            "Predicted: Non-Kebakaran\n",
            " \n",
            "/content/drive/My Drive/Skripsi/dataset/test_image/Non_kebakaran_0006.jpg\n",
            "Predicted: Non-Kebakaran\n",
            " \n",
            "/content/drive/My Drive/Skripsi/dataset/test_image/Non_kebakaran_0007.jpg\n",
            "Predicted: Non-Kebakaran\n",
            " \n",
            "/content/drive/My Drive/Skripsi/dataset/test_image/Non_kebakaran_0008.jpg\n",
            "Predicted: Non-Kebakaran\n",
            " \n",
            "/content/drive/My Drive/Skripsi/dataset/test_image/Non_kebakaran_0014.jpg\n",
            "Predicted: Non-Kebakaran\n",
            " \n",
            "/content/drive/My Drive/Skripsi/dataset/test_image/Non_kebakaran_0009.jpg\n",
            "Predicted: Non-Kebakaran\n",
            " \n",
            "/content/drive/My Drive/Skripsi/dataset/test_image/Non_kebakaran_0015.jpg\n",
            "Predicted: Non-Kebakaran\n",
            " \n",
            "/content/drive/My Drive/Skripsi/dataset/test_image/Non_kebakaran_0011.jpg\n",
            "Predicted: Non-Kebakaran\n",
            " \n",
            "/content/drive/My Drive/Skripsi/dataset/test_image/Non_kebakaran_0010.jpg\n",
            "Predicted: Non-Kebakaran\n",
            " \n",
            "/content/drive/My Drive/Skripsi/dataset/test_image/Non_kebakaran_0013.jpg\n",
            "Predicted: Non-Kebakaran\n",
            " \n",
            "/content/drive/My Drive/Skripsi/dataset/test_image/Non_kebakaran_0012.jpg\n",
            "Predicted: Non-Kebakaran\n",
            " \n",
            "/content/drive/My Drive/Skripsi/dataset/test_image/Non_kebakaran_0016.jpg\n",
            "Predicted: Non-Kebakaran\n",
            " \n",
            "/content/drive/My Drive/Skripsi/dataset/test_image/Non_kebakaran_0018.jpg\n",
            "Predicted: Non-Kebakaran\n",
            " \n",
            "/content/drive/My Drive/Skripsi/dataset/test_image/Non_kebakaran_0017.jpg\n",
            "Predicted: Non-Kebakaran\n",
            " \n",
            "/content/drive/My Drive/Skripsi/dataset/test_image/Non_kebakaran_0019.jpg\n",
            "Predicted: Non-Kebakaran\n",
            " \n",
            "/content/drive/My Drive/Skripsi/dataset/test_image/Non_kebakaran_0020.jpg\n",
            "Predicted: Non-Kebakaran\n",
            " \n",
            "/content/drive/My Drive/Skripsi/dataset/test_image/Non_kebakaran_0022.jpg\n",
            "Predicted: Non-Kebakaran\n",
            " \n",
            "/content/drive/My Drive/Skripsi/dataset/test_image/Non_kebakaran_0021.jpg\n",
            "Predicted: Non-Kebakaran\n",
            " \n",
            "/content/drive/My Drive/Skripsi/dataset/test_image/Non_kebakaran_0025.jpg\n",
            "Predicted: Non-Kebakaran\n",
            " \n",
            "/content/drive/My Drive/Skripsi/dataset/test_image/Non_kebakaran_0023.jpg\n",
            "Predicted: Non-Kebakaran\n",
            " \n",
            "/content/drive/My Drive/Skripsi/dataset/test_image/Non_kebakaran_0024.jpg\n",
            "Predicted: Non-Kebakaran\n",
            " \n",
            "Execution Time: 33.66374945640564 seconds\n"
          ],
          "name": "stdout"
        }
      ]
    }
  ]
}